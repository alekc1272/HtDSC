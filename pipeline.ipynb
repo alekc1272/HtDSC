{
 "cells": [
  {
   "cell_type": "code",
   "execution_count": 1,
   "metadata": {},
   "outputs": [],
   "source": [
    "import pandas as pd\n",
    "import numpy as np\n",
    "import seaborn as sns\n",
    "import matplotlib.pyplot as plt\n",
    "import pickle\n",
    "import gc\n",
    "from itertools import product\n",
    "from sklearn.preprocessing import LabelEncoder\n",
    "\n",
    "sns.set(rc={'figure.figsize':(11.7, 8.27)})\n",
    "sns.set_style(\"darkgrid\")"
   ]
  },
  {
   "cell_type": "code",
   "execution_count": 2,
   "metadata": {},
   "outputs": [],
   "source": [
    "train = pd.read_csv('dataset/sales_train.csv')\n",
    "test = pd.read_csv('dataset/test.csv').set_index('ID')\n",
    "items = pd.read_csv('dataset/items.csv')\n",
    "categories = pd.read_csv('dataset/item_categories.csv')\n",
    "shops = pd.read_csv('dataset/shops.csv')"
   ]
  },
  {
   "cell_type": "markdown",
   "metadata": {},
   "source": [
    "## Data Analysis, Preprocessing, Feature Engineering"
   ]
  },
  {
   "cell_type": "markdown",
   "metadata": {},
   "source": [
    "### Features by files:"
   ]
  },
  {
   "cell_type": "markdown",
   "metadata": {},
   "source": [
    "#### sales_train.csv:\n",
    "- date\n",
    "- date_block_num\n",
    "- shop_id\n",
    "- item_id\n",
    "- item_price\n",
    "- item_cnt_day"
   ]
  },
  {
   "cell_type": "code",
   "execution_count": 3,
   "metadata": {},
   "outputs": [
    {
     "name": "stdout",
     "output_type": "stream",
     "text": [
      "Train file contains 2935849 rows and 6 columns\n"
     ]
    },
    {
     "data": {
      "text/html": [
       "<div>\n",
       "<style scoped>\n",
       "    .dataframe tbody tr th:only-of-type {\n",
       "        vertical-align: middle;\n",
       "    }\n",
       "\n",
       "    .dataframe tbody tr th {\n",
       "        vertical-align: top;\n",
       "    }\n",
       "\n",
       "    .dataframe thead th {\n",
       "        text-align: right;\n",
       "    }\n",
       "</style>\n",
       "<table border=\"1\" class=\"dataframe\">\n",
       "  <thead>\n",
       "    <tr style=\"text-align: right;\">\n",
       "      <th></th>\n",
       "      <th>date</th>\n",
       "      <th>date_block_num</th>\n",
       "      <th>shop_id</th>\n",
       "      <th>item_id</th>\n",
       "      <th>item_price</th>\n",
       "      <th>item_cnt_day</th>\n",
       "    </tr>\n",
       "  </thead>\n",
       "  <tbody>\n",
       "    <tr>\n",
       "      <th>0</th>\n",
       "      <td>02.01.2013</td>\n",
       "      <td>0</td>\n",
       "      <td>59</td>\n",
       "      <td>22154</td>\n",
       "      <td>999.00</td>\n",
       "      <td>1.0</td>\n",
       "    </tr>\n",
       "    <tr>\n",
       "      <th>1</th>\n",
       "      <td>03.01.2013</td>\n",
       "      <td>0</td>\n",
       "      <td>25</td>\n",
       "      <td>2552</td>\n",
       "      <td>899.00</td>\n",
       "      <td>1.0</td>\n",
       "    </tr>\n",
       "    <tr>\n",
       "      <th>2</th>\n",
       "      <td>05.01.2013</td>\n",
       "      <td>0</td>\n",
       "      <td>25</td>\n",
       "      <td>2552</td>\n",
       "      <td>899.00</td>\n",
       "      <td>-1.0</td>\n",
       "    </tr>\n",
       "    <tr>\n",
       "      <th>3</th>\n",
       "      <td>06.01.2013</td>\n",
       "      <td>0</td>\n",
       "      <td>25</td>\n",
       "      <td>2554</td>\n",
       "      <td>1709.05</td>\n",
       "      <td>1.0</td>\n",
       "    </tr>\n",
       "    <tr>\n",
       "      <th>4</th>\n",
       "      <td>15.01.2013</td>\n",
       "      <td>0</td>\n",
       "      <td>25</td>\n",
       "      <td>2555</td>\n",
       "      <td>1099.00</td>\n",
       "      <td>1.0</td>\n",
       "    </tr>\n",
       "  </tbody>\n",
       "</table>\n",
       "</div>"
      ],
      "text/plain": [
       "         date  date_block_num  shop_id  item_id  item_price  item_cnt_day\n",
       "0  02.01.2013               0       59    22154      999.00           1.0\n",
       "1  03.01.2013               0       25     2552      899.00           1.0\n",
       "2  05.01.2013               0       25     2552      899.00          -1.0\n",
       "3  06.01.2013               0       25     2554     1709.05           1.0\n",
       "4  15.01.2013               0       25     2555     1099.00           1.0"
      ]
     },
     "execution_count": 3,
     "metadata": {},
     "output_type": "execute_result"
    }
   ],
   "source": [
    "print(\"Train file contains {} rows and {} columns\".format(train.shape[0], train.shape[1]))\n",
    "train.head()"
   ]
  },
  {
   "cell_type": "markdown",
   "metadata": {},
   "source": [
    "#### items.csv:\n",
    "- item_name\n",
    "- item_id\n",
    "- item_category_id"
   ]
  },
  {
   "cell_type": "code",
   "execution_count": 4,
   "metadata": {},
   "outputs": [
    {
     "name": "stdout",
     "output_type": "stream",
     "text": [
      "Items file contains 22170 rows and 3 columns\n"
     ]
    },
    {
     "data": {
      "text/html": [
       "<div>\n",
       "<style scoped>\n",
       "    .dataframe tbody tr th:only-of-type {\n",
       "        vertical-align: middle;\n",
       "    }\n",
       "\n",
       "    .dataframe tbody tr th {\n",
       "        vertical-align: top;\n",
       "    }\n",
       "\n",
       "    .dataframe thead th {\n",
       "        text-align: right;\n",
       "    }\n",
       "</style>\n",
       "<table border=\"1\" class=\"dataframe\">\n",
       "  <thead>\n",
       "    <tr style=\"text-align: right;\">\n",
       "      <th></th>\n",
       "      <th>item_name</th>\n",
       "      <th>item_id</th>\n",
       "      <th>item_category_id</th>\n",
       "    </tr>\n",
       "  </thead>\n",
       "  <tbody>\n",
       "    <tr>\n",
       "      <th>0</th>\n",
       "      <td>! ВО ВЛАСТИ НАВАЖДЕНИЯ (ПЛАСТ.)         D</td>\n",
       "      <td>0</td>\n",
       "      <td>40</td>\n",
       "    </tr>\n",
       "    <tr>\n",
       "      <th>1</th>\n",
       "      <td>!ABBYY FineReader 12 Professional Edition Full...</td>\n",
       "      <td>1</td>\n",
       "      <td>76</td>\n",
       "    </tr>\n",
       "    <tr>\n",
       "      <th>2</th>\n",
       "      <td>***В ЛУЧАХ СЛАВЫ   (UNV)                    D</td>\n",
       "      <td>2</td>\n",
       "      <td>40</td>\n",
       "    </tr>\n",
       "    <tr>\n",
       "      <th>3</th>\n",
       "      <td>***ГОЛУБАЯ ВОЛНА  (Univ)                      D</td>\n",
       "      <td>3</td>\n",
       "      <td>40</td>\n",
       "    </tr>\n",
       "    <tr>\n",
       "      <th>4</th>\n",
       "      <td>***КОРОБКА (СТЕКЛО)                       D</td>\n",
       "      <td>4</td>\n",
       "      <td>40</td>\n",
       "    </tr>\n",
       "  </tbody>\n",
       "</table>\n",
       "</div>"
      ],
      "text/plain": [
       "                                           item_name  item_id  \\\n",
       "0          ! ВО ВЛАСТИ НАВАЖДЕНИЯ (ПЛАСТ.)         D        0   \n",
       "1  !ABBYY FineReader 12 Professional Edition Full...        1   \n",
       "2      ***В ЛУЧАХ СЛАВЫ   (UNV)                    D        2   \n",
       "3    ***ГОЛУБАЯ ВОЛНА  (Univ)                      D        3   \n",
       "4        ***КОРОБКА (СТЕКЛО)                       D        4   \n",
       "\n",
       "   item_category_id  \n",
       "0                40  \n",
       "1                76  \n",
       "2                40  \n",
       "3                40  \n",
       "4                40  "
      ]
     },
     "execution_count": 4,
     "metadata": {},
     "output_type": "execute_result"
    }
   ],
   "source": [
    "print(\"Items file contains {} rows and {} columns\".format(items.shape[0], items.shape[1]))\n",
    "items.head()"
   ]
  },
  {
   "cell_type": "markdown",
   "metadata": {},
   "source": [
    "#### items_categories.csv:\n",
    "- item_category_name\n",
    "- item_category_id"
   ]
  },
  {
   "cell_type": "code",
   "execution_count": 5,
   "metadata": {},
   "outputs": [
    {
     "name": "stdout",
     "output_type": "stream",
     "text": [
      "Categories file contains 84 rows and 2 columns\n"
     ]
    },
    {
     "data": {
      "text/html": [
       "<div>\n",
       "<style scoped>\n",
       "    .dataframe tbody tr th:only-of-type {\n",
       "        vertical-align: middle;\n",
       "    }\n",
       "\n",
       "    .dataframe tbody tr th {\n",
       "        vertical-align: top;\n",
       "    }\n",
       "\n",
       "    .dataframe thead th {\n",
       "        text-align: right;\n",
       "    }\n",
       "</style>\n",
       "<table border=\"1\" class=\"dataframe\">\n",
       "  <thead>\n",
       "    <tr style=\"text-align: right;\">\n",
       "      <th></th>\n",
       "      <th>item_category_name</th>\n",
       "      <th>item_category_id</th>\n",
       "    </tr>\n",
       "  </thead>\n",
       "  <tbody>\n",
       "    <tr>\n",
       "      <th>0</th>\n",
       "      <td>PC - Гарнитуры/Наушники</td>\n",
       "      <td>0</td>\n",
       "    </tr>\n",
       "    <tr>\n",
       "      <th>1</th>\n",
       "      <td>Аксессуары - PS2</td>\n",
       "      <td>1</td>\n",
       "    </tr>\n",
       "    <tr>\n",
       "      <th>2</th>\n",
       "      <td>Аксессуары - PS3</td>\n",
       "      <td>2</td>\n",
       "    </tr>\n",
       "    <tr>\n",
       "      <th>3</th>\n",
       "      <td>Аксессуары - PS4</td>\n",
       "      <td>3</td>\n",
       "    </tr>\n",
       "    <tr>\n",
       "      <th>4</th>\n",
       "      <td>Аксессуары - PSP</td>\n",
       "      <td>4</td>\n",
       "    </tr>\n",
       "  </tbody>\n",
       "</table>\n",
       "</div>"
      ],
      "text/plain": [
       "        item_category_name  item_category_id\n",
       "0  PC - Гарнитуры/Наушники                 0\n",
       "1         Аксессуары - PS2                 1\n",
       "2         Аксессуары - PS3                 2\n",
       "3         Аксессуары - PS4                 3\n",
       "4         Аксессуары - PSP                 4"
      ]
     },
     "execution_count": 5,
     "metadata": {},
     "output_type": "execute_result"
    }
   ],
   "source": [
    "print(\"Categories file contains {} rows and {} columns\".format(categories.shape[0], categories.shape[1]))\n",
    "categories.head()"
   ]
  },
  {
   "cell_type": "markdown",
   "metadata": {},
   "source": [
    "#### shops.csv:\n",
    "- shop_name\n",
    "- shop_id"
   ]
  },
  {
   "cell_type": "code",
   "execution_count": 6,
   "metadata": {},
   "outputs": [
    {
     "name": "stdout",
     "output_type": "stream",
     "text": [
      "Shops file contains 60 rows and 2 columns\n"
     ]
    },
    {
     "data": {
      "text/html": [
       "<div>\n",
       "<style scoped>\n",
       "    .dataframe tbody tr th:only-of-type {\n",
       "        vertical-align: middle;\n",
       "    }\n",
       "\n",
       "    .dataframe tbody tr th {\n",
       "        vertical-align: top;\n",
       "    }\n",
       "\n",
       "    .dataframe thead th {\n",
       "        text-align: right;\n",
       "    }\n",
       "</style>\n",
       "<table border=\"1\" class=\"dataframe\">\n",
       "  <thead>\n",
       "    <tr style=\"text-align: right;\">\n",
       "      <th></th>\n",
       "      <th>shop_name</th>\n",
       "      <th>shop_id</th>\n",
       "    </tr>\n",
       "  </thead>\n",
       "  <tbody>\n",
       "    <tr>\n",
       "      <th>0</th>\n",
       "      <td>!Якутск Орджоникидзе, 56 фран</td>\n",
       "      <td>0</td>\n",
       "    </tr>\n",
       "    <tr>\n",
       "      <th>1</th>\n",
       "      <td>!Якутск ТЦ \"Центральный\" фран</td>\n",
       "      <td>1</td>\n",
       "    </tr>\n",
       "    <tr>\n",
       "      <th>2</th>\n",
       "      <td>Адыгея ТЦ \"Мега\"</td>\n",
       "      <td>2</td>\n",
       "    </tr>\n",
       "    <tr>\n",
       "      <th>3</th>\n",
       "      <td>Балашиха ТРК \"Октябрь-Киномир\"</td>\n",
       "      <td>3</td>\n",
       "    </tr>\n",
       "    <tr>\n",
       "      <th>4</th>\n",
       "      <td>Волжский ТЦ \"Волга Молл\"</td>\n",
       "      <td>4</td>\n",
       "    </tr>\n",
       "  </tbody>\n",
       "</table>\n",
       "</div>"
      ],
      "text/plain": [
       "                        shop_name  shop_id\n",
       "0   !Якутск Орджоникидзе, 56 фран        0\n",
       "1   !Якутск ТЦ \"Центральный\" фран        1\n",
       "2                Адыгея ТЦ \"Мега\"        2\n",
       "3  Балашиха ТРК \"Октябрь-Киномир\"        3\n",
       "4        Волжский ТЦ \"Волга Молл\"        4"
      ]
     },
     "execution_count": 6,
     "metadata": {},
     "output_type": "execute_result"
    }
   ],
   "source": [
    "print(\"Shops file contains {} rows and {} columns\".format(shops.shape[0], shops.shape[1]))\n",
    "shops.head()"
   ]
  },
  {
   "cell_type": "markdown",
   "metadata": {},
   "source": [
    "#### test.csv:\n",
    "- shop_id\n",
    "- item_id"
   ]
  },
  {
   "cell_type": "code",
   "execution_count": 7,
   "metadata": {},
   "outputs": [
    {
     "name": "stdout",
     "output_type": "stream",
     "text": [
      "Test file contains 214200 rows and 2 columns\n"
     ]
    },
    {
     "data": {
      "text/html": [
       "<div>\n",
       "<style scoped>\n",
       "    .dataframe tbody tr th:only-of-type {\n",
       "        vertical-align: middle;\n",
       "    }\n",
       "\n",
       "    .dataframe tbody tr th {\n",
       "        vertical-align: top;\n",
       "    }\n",
       "\n",
       "    .dataframe thead th {\n",
       "        text-align: right;\n",
       "    }\n",
       "</style>\n",
       "<table border=\"1\" class=\"dataframe\">\n",
       "  <thead>\n",
       "    <tr style=\"text-align: right;\">\n",
       "      <th></th>\n",
       "      <th>shop_id</th>\n",
       "      <th>item_id</th>\n",
       "    </tr>\n",
       "    <tr>\n",
       "      <th>ID</th>\n",
       "      <th></th>\n",
       "      <th></th>\n",
       "    </tr>\n",
       "  </thead>\n",
       "  <tbody>\n",
       "    <tr>\n",
       "      <th>0</th>\n",
       "      <td>5</td>\n",
       "      <td>5037</td>\n",
       "    </tr>\n",
       "    <tr>\n",
       "      <th>1</th>\n",
       "      <td>5</td>\n",
       "      <td>5320</td>\n",
       "    </tr>\n",
       "    <tr>\n",
       "      <th>2</th>\n",
       "      <td>5</td>\n",
       "      <td>5233</td>\n",
       "    </tr>\n",
       "    <tr>\n",
       "      <th>3</th>\n",
       "      <td>5</td>\n",
       "      <td>5232</td>\n",
       "    </tr>\n",
       "    <tr>\n",
       "      <th>4</th>\n",
       "      <td>5</td>\n",
       "      <td>5268</td>\n",
       "    </tr>\n",
       "  </tbody>\n",
       "</table>\n",
       "</div>"
      ],
      "text/plain": [
       "    shop_id  item_id\n",
       "ID                  \n",
       "0         5     5037\n",
       "1         5     5320\n",
       "2         5     5233\n",
       "3         5     5232\n",
       "4         5     5268"
      ]
     },
     "execution_count": 7,
     "metadata": {},
     "output_type": "execute_result"
    }
   ],
   "source": [
    "print(\"Test file contains {} rows and {} columns\".format(test.shape[0], test.shape[1]))\n",
    "test.head()"
   ]
  },
  {
   "cell_type": "markdown",
   "metadata": {},
   "source": [
    "### Sales by month:"
   ]
  },
  {
   "cell_type": "code",
   "execution_count": 8,
   "metadata": {},
   "outputs": [
    {
     "data": {
      "image/png": "[encoded data removed]",
      "text/plain": [
       "<Figure size 842.4x595.44 with 1 Axes>"
      ]
     },
     "metadata": {},
     "output_type": "display_data"
    }
   ],
   "source": [
    "salesByMonth = pd.DataFrame(train.groupby(['date_block_num'])['item_cnt_day'].sum().reset_index())\n",
    "sns.lineplot(x='date_block_num', y='item_cnt_day', data=salesByMonth, markers=True)\n",
    "plt.xlabel('date_block_num')\n",
    "plt.ylabel('item_cnt_day')\n",
    "plt.title('Sales by month')\n",
    "plt.show()"
   ]
  },
  {
   "cell_type": "markdown",
   "metadata": {},
   "source": [
    "### Delete duplicates and outliers"
   ]
  },
  {
   "cell_type": "code",
   "execution_count": 9,
   "metadata": {},
   "outputs": [],
   "source": [
    "train = train[train['item_cnt_day'] < 1000]\n",
    "\n",
    "a = shops[shops['shop_id'] == 10].iloc[0]['shop_name']\n",
    "b = shops[shops['shop_id'] == 11].iloc[0]['shop_name']\n",
    "train.loc[train.shop_id == 10, 'shop_id'] = 11\n",
    "test.loc[test.shop_id == 10, 'shop_id'] = 11\n",
    "\n",
    "a = shops[shops['shop_id'] == 0].iloc[0]['shop_name']\n",
    "b = shops[shops['shop_id'] == 57].iloc[0]['shop_name']\n",
    "train.loc[train.shop_id == 0, 'shop_id'] = 57\n",
    "test.loc[test.shop_id == 0, 'shop_id'] = 57\n",
    "\n",
    "a = shops[shops['shop_id'] == 1].iloc[0]['shop_name']\n",
    "b = shops[shops['shop_id'] == 58].iloc[0]['shop_name']\n",
    "train.loc[train.shop_id == 1, 'shop_id'] = 58\n",
    "test.loc[test.shop_id == 1, 'shop_id'] = 58"
   ]
  },
  {
   "cell_type": "markdown",
   "metadata": {},
   "source": [
    "### Correct mistakes and do LabelEncoding"
   ]
  },
  {
   "cell_type": "code",
   "execution_count": 10,
   "metadata": {},
   "outputs": [],
   "source": [
    "from sklearn.preprocessing import LabelEncoder\n",
    "\n",
    "categories['split'] = categories['item_category_name'].str.split('-')\n",
    "categories['type'] = categories['split'].map(lambda x: x[0].strip())\n",
    "categories['type_code'] = LabelEncoder().fit_transform(categories['type'])\n",
    "categories['subtype'] = categories['split'].map(lambda x: x[1].strip() if len(x) > 1 else x[0].strip())\n",
    "categories['subtype_code'] = LabelEncoder().fit_transform(categories['subtype'])\n",
    "categories = categories[['item_category_id','type_code', 'subtype_code']]\n",
    "\n",
    "shops.loc[shops.shop_name == 'Сергиев Посад ТЦ \"7Я\"', 'shop_name'] = 'СергиевПосад ТЦ \"7Я\"'\n",
    "shops['city'] = shops['shop_name'].str.split(' ').map(lambda x: x[0])\n",
    "shops.loc[shops.city == '!Якутск', 'city'] = 'Якутск'\n",
    "shops['city_code'] = LabelEncoder().fit_transform(shops['city'])\n",
    "shops = shops[['shop_id','city_code']]\n",
    "\n",
    "items.drop(['item_name'], axis=1, inplace=True)"
   ]
  },
  {
   "cell_type": "markdown",
   "metadata": {},
   "source": [
    "### Generate combinations for shop_id, item_id, date_block_num"
   ]
  },
  {
   "cell_type": "code",
   "execution_count": 11,
   "metadata": {},
   "outputs": [],
   "source": [
    "dataset = []\n",
    "for i in range(34):\n",
    "    sales = train[train.date_block_num==i]\n",
    "    dataset.append(np.array(list(product([i], sales.shop_id.unique(), sales.item_id.unique())), dtype=np.int16))\n",
    "\n",
    "train['revenue'] = train['item_price'] *  train['item_cnt_day']\n",
    "group = train.groupby(['date_block_num','shop_id','item_id']).agg({'item_cnt_day': ['sum']})\n",
    "group.columns = ['item_cnt_month']\n",
    "group.reset_index(inplace=True)\n",
    "\n",
    "dataset = pd.DataFrame(np.vstack(dataset), columns=['date_block_num','shop_id','item_id'])\n",
    "dataset = pd.merge(dataset, group, on=['date_block_num','shop_id','item_id'], how='left')\n",
    "dataset['item_cnt_month'] = (dataset['item_cnt_month'].fillna(0).clip(0,20).astype(np.int16))"
   ]
  },
  {
   "cell_type": "code",
   "execution_count": 12,
   "metadata": {},
   "outputs": [
    {
     "data": {
      "text/html": [
       "<div>\n",
       "<style scoped>\n",
       "    .dataframe tbody tr th:only-of-type {\n",
       "        vertical-align: middle;\n",
       "    }\n",
       "\n",
       "    .dataframe tbody tr th {\n",
       "        vertical-align: top;\n",
       "    }\n",
       "\n",
       "    .dataframe thead th {\n",
       "        text-align: right;\n",
       "    }\n",
       "</style>\n",
       "<table border=\"1\" class=\"dataframe\">\n",
       "  <thead>\n",
       "    <tr style=\"text-align: right;\">\n",
       "      <th></th>\n",
       "      <th>date_block_num</th>\n",
       "      <th>shop_id</th>\n",
       "      <th>item_id</th>\n",
       "      <th>item_cnt_month</th>\n",
       "    </tr>\n",
       "  </thead>\n",
       "  <tbody>\n",
       "    <tr>\n",
       "      <th>count</th>\n",
       "      <td>1.091385e+07</td>\n",
       "      <td>1.091385e+07</td>\n",
       "      <td>1.091385e+07</td>\n",
       "      <td>1.091385e+07</td>\n",
       "    </tr>\n",
       "    <tr>\n",
       "      <th>mean</th>\n",
       "      <td>1.497334e+01</td>\n",
       "      <td>3.137817e+01</td>\n",
       "      <td>1.130926e+04</td>\n",
       "      <td>2.982381e-01</td>\n",
       "    </tr>\n",
       "    <tr>\n",
       "      <th>std</th>\n",
       "      <td>9.495618e+00</td>\n",
       "      <td>1.730214e+01</td>\n",
       "      <td>6.209978e+03</td>\n",
       "      <td>1.222359e+00</td>\n",
       "    </tr>\n",
       "    <tr>\n",
       "      <th>min</th>\n",
       "      <td>0.000000e+00</td>\n",
       "      <td>2.000000e+00</td>\n",
       "      <td>0.000000e+00</td>\n",
       "      <td>0.000000e+00</td>\n",
       "    </tr>\n",
       "    <tr>\n",
       "      <th>25%</th>\n",
       "      <td>7.000000e+00</td>\n",
       "      <td>1.600000e+01</td>\n",
       "      <td>5.976000e+03</td>\n",
       "      <td>0.000000e+00</td>\n",
       "    </tr>\n",
       "    <tr>\n",
       "      <th>50%</th>\n",
       "      <td>1.400000e+01</td>\n",
       "      <td>3.000000e+01</td>\n",
       "      <td>1.139100e+04</td>\n",
       "      <td>0.000000e+00</td>\n",
       "    </tr>\n",
       "    <tr>\n",
       "      <th>75%</th>\n",
       "      <td>2.300000e+01</td>\n",
       "      <td>4.700000e+01</td>\n",
       "      <td>1.660500e+04</td>\n",
       "      <td>0.000000e+00</td>\n",
       "    </tr>\n",
       "    <tr>\n",
       "      <th>max</th>\n",
       "      <td>3.300000e+01</td>\n",
       "      <td>5.900000e+01</td>\n",
       "      <td>2.216900e+04</td>\n",
       "      <td>2.000000e+01</td>\n",
       "    </tr>\n",
       "  </tbody>\n",
       "</table>\n",
       "</div>"
      ],
      "text/plain": [
       "       date_block_num       shop_id       item_id  item_cnt_month\n",
       "count    1.091385e+07  1.091385e+07  1.091385e+07    1.091385e+07\n",
       "mean     1.497334e+01  3.137817e+01  1.130926e+04    2.982381e-01\n",
       "std      9.495618e+00  1.730214e+01  6.209978e+03    1.222359e+00\n",
       "min      0.000000e+00  2.000000e+00  0.000000e+00    0.000000e+00\n",
       "25%      7.000000e+00  1.600000e+01  5.976000e+03    0.000000e+00\n",
       "50%      1.400000e+01  3.000000e+01  1.139100e+04    0.000000e+00\n",
       "75%      2.300000e+01  4.700000e+01  1.660500e+04    0.000000e+00\n",
       "max      3.300000e+01  5.900000e+01  2.216900e+04    2.000000e+01"
      ]
     },
     "execution_count": 12,
     "metadata": {},
     "output_type": "execute_result"
    }
   ],
   "source": [
    "dataset.describe()"
   ]
  },
  {
   "cell_type": "code",
   "execution_count": 13,
   "metadata": {},
   "outputs": [],
   "source": [
    "test['date_block_num'] = 34\n",
    "test['date_block_num'] = test['date_block_num'].astype(np.int8)\n",
    "test['shop_id'] = test['shop_id'].astype(np.int8)\n",
    "test['item_id'] = test['item_id'].astype(np.int16)\n",
    "\n",
    "dataset = pd.concat([dataset, test], ignore_index=True, sort=False, keys=['date_block_num','shop_id','item_id'])\n",
    "dataset.fillna(0, inplace=True)\n",
    "\n",
    "dataset = pd.merge(dataset, shops, on=['shop_id'], how='left')\n",
    "dataset = pd.merge(dataset, items, on=['item_id'], how='left')\n",
    "dataset = pd.merge(dataset, categories, on=['item_category_id'], how='left')\n",
    "dataset['city_code'] = dataset['city_code'].astype(np.int8)\n",
    "dataset['item_category_id'] = dataset['item_category_id'].astype(np.int8)\n",
    "dataset['type_code'] = dataset['type_code'].astype(np.int8)\n",
    "dataset['subtype_code'] = dataset['subtype_code'].astype(np.int8)"
   ]
  },
  {
   "cell_type": "markdown",
   "metadata": {},
   "source": [
    "### Lag feature for item_cnt_month with [1,2,3,6,12] date_block_num periods"
   ]
  },
  {
   "cell_type": "code",
   "execution_count": 14,
   "metadata": {},
   "outputs": [],
   "source": [
    "def lag_feature(df, lags, col):\n",
    "    tmp = df[['date_block_num','shop_id','item_id',col]]\n",
    "    for i in lags:\n",
    "        shifted = tmp.copy()\n",
    "        shifted.columns = ['date_block_num','shop_id','item_id', col+'_lag_'+str(i)]\n",
    "        shifted['date_block_num'] += i\n",
    "        df = pd.merge(df, shifted, on=['date_block_num','shop_id','item_id'], how='left')\n",
    "    return df"
   ]
  },
  {
   "cell_type": "code",
   "execution_count": 15,
   "metadata": {},
   "outputs": [],
   "source": [
    "dataset = lag_feature(dataset, [1,2,3,6,12], 'item_cnt_month')"
   ]
  },
  {
   "cell_type": "markdown",
   "metadata": {},
   "source": [
    "### Mean target encoding features"
   ]
  },
  {
   "cell_type": "code",
   "execution_count": 16,
   "metadata": {},
   "outputs": [
    {
     "name": "stdout",
     "output_type": "stream",
     "text": [
      "Mean['item_cnt_month'] by date_block_num was created ...\n",
      "Mean['item_cnt_month'] by date_block_num, item_id was created ...\n",
      "Mean['item_cnt_month'] by date_block_num, shop_id was created ...\n",
      "Mean['item_cnt_month'] by date_block_num, item_category_id was created ...\n",
      "Mean['item_cnt_month'] by date_block_num, shop_id, item_category_id was created ...\n",
      "Mean['item_cnt_month'] by date_block_num, shop_id, type_code was created ...\n",
      "Mean['item_cnt_month'] by date_block_num, shop_id, subtype_code was created ...\n",
      "Mean['item_cnt_month'] by date_block_num, city_code was created ...\n",
      "Mean['item_cnt_month'] by date_block_num, item_id, city_code was created ...\n",
      "Mean['item_cnt_month'] by date_block_num, type_code was created ...\n",
      "Mean['item_cnt_month'] by date_block_num, subtype_code was created ...\n"
     ]
    }
   ],
   "source": [
    "group = dataset.groupby(['date_block_num']).agg({'item_cnt_month': ['mean']})\n",
    "group.columns = ['date_avg_item_cnt']\n",
    "group.reset_index(inplace=True)\n",
    "dataset = pd.merge(dataset, group, on=['date_block_num'], how='left')\n",
    "dataset['date_avg_item_cnt'] = dataset['date_avg_item_cnt'].astype(np.float16)\n",
    "dataset = lag_feature(dataset, [1], 'date_avg_item_cnt')\n",
    "dataset.drop(['date_avg_item_cnt'], axis=1, inplace=True)\n",
    "print(\"Mean['item_cnt_month'] by date_block_num was created ...\")\n",
    "\n",
    "group = dataset.groupby(['date_block_num', 'item_id']).agg({'item_cnt_month': ['mean']})\n",
    "group.columns = ['date_item_avg_item_cnt']\n",
    "group.reset_index(inplace=True)\n",
    "dataset = pd.merge(dataset, group, on=['date_block_num','item_id'], how='left')\n",
    "dataset['date_item_avg_item_cnt'] = dataset['date_item_avg_item_cnt'].astype(np.float16)\n",
    "dataset = lag_feature(dataset, [1,2,3,6,12], 'date_item_avg_item_cnt')\n",
    "dataset.drop(['date_item_avg_item_cnt'], axis=1, inplace=True)\n",
    "print(\"Mean['item_cnt_month'] by date_block_num, item_id was created ...\")\n",
    "\n",
    "group = dataset.groupby(['date_block_num', 'shop_id']).agg({'item_cnt_month': ['mean']})\n",
    "group.columns = ['date_shop_avg_item_cnt']\n",
    "group.reset_index(inplace=True)\n",
    "dataset = pd.merge(dataset, group, on=['date_block_num','shop_id'], how='left')\n",
    "dataset['date_shop_avg_item_cnt'] = dataset['date_shop_avg_item_cnt'].astype(np.float16)\n",
    "dataset = lag_feature(dataset, [1,2,3,6,12], 'date_shop_avg_item_cnt')\n",
    "dataset.drop(['date_shop_avg_item_cnt'], axis=1, inplace=True)\n",
    "print(\"Mean['item_cnt_month'] by date_block_num, shop_id was created ...\")\n",
    "\n",
    "group = dataset.groupby(['date_block_num', 'item_category_id']).agg({'item_cnt_month': ['mean']})\n",
    "group.columns = ['date_cat_avg_item_cnt']\n",
    "group.reset_index(inplace=True)\n",
    "dataset = pd.merge(dataset, group, on=['date_block_num','item_category_id'], how='left')\n",
    "dataset['date_cat_avg_item_cnt'] = dataset['date_cat_avg_item_cnt'].astype(np.float16)\n",
    "dataset = lag_feature(dataset, [1], 'date_cat_avg_item_cnt')\n",
    "dataset.drop(['date_cat_avg_item_cnt'], axis=1, inplace=True)\n",
    "print(\"Mean['item_cnt_month'] by date_block_num, item_category_id was created ...\")\n",
    "\n",
    "group = dataset.groupby(['date_block_num', 'shop_id', 'item_category_id']).agg({'item_cnt_month': ['mean']})\n",
    "group.columns = ['date_shop_cat_avg_item_cnt']\n",
    "group.reset_index(inplace=True)\n",
    "dataset = pd.merge(dataset, group, on=['date_block_num', 'shop_id', 'item_category_id'], how='left')\n",
    "dataset['date_shop_cat_avg_item_cnt'] = dataset['date_shop_cat_avg_item_cnt'].astype(np.float16)\n",
    "dataset = lag_feature(dataset, [1], 'date_shop_cat_avg_item_cnt')\n",
    "dataset.drop(['date_shop_cat_avg_item_cnt'], axis=1, inplace=True)\n",
    "print(\"Mean['item_cnt_month'] by date_block_num, shop_id, item_category_id was created ...\")\n",
    "\n",
    "group = dataset.groupby(['date_block_num', 'shop_id', 'type_code']).agg({'item_cnt_month': ['mean']})\n",
    "group.columns = ['date_shop_type_avg_item_cnt']\n",
    "group.reset_index(inplace=True)\n",
    "dataset = pd.merge(dataset, group, on=['date_block_num', 'shop_id', 'type_code'], how='left')\n",
    "dataset['date_shop_type_avg_item_cnt'] = dataset['date_shop_type_avg_item_cnt'].astype(np.float16)\n",
    "dataset = lag_feature(dataset, [1], 'date_shop_type_avg_item_cnt')\n",
    "dataset.drop(['date_shop_type_avg_item_cnt'], axis=1, inplace=True)\n",
    "print(\"Mean['item_cnt_month'] by date_block_num, shop_id, type_code was created ...\")\n",
    "\n",
    "group = dataset.groupby(['date_block_num', 'shop_id', 'subtype_code']).agg({'item_cnt_month': ['mean']})\n",
    "group.columns = ['date_shop_subtype_avg_item_cnt']\n",
    "group.reset_index(inplace=True)\n",
    "dataset = pd.merge(dataset, group, on=['date_block_num', 'shop_id', 'subtype_code'], how='left')\n",
    "dataset['date_shop_subtype_avg_item_cnt'] = dataset['date_shop_subtype_avg_item_cnt'].astype(np.float16)\n",
    "dataset = lag_feature(dataset, [1], 'date_shop_subtype_avg_item_cnt')\n",
    "dataset.drop(['date_shop_subtype_avg_item_cnt'], axis=1, inplace=True)\n",
    "print(\"Mean['item_cnt_month'] by date_block_num, shop_id, subtype_code was created ...\")\n",
    "\n",
    "group = dataset.groupby(['date_block_num', 'city_code']).agg({'item_cnt_month': ['mean']})\n",
    "group.columns = ['date_city_avg_item_cnt']\n",
    "group.reset_index(inplace=True)\n",
    "dataset = pd.merge(dataset, group, on=['date_block_num', 'city_code'], how='left')\n",
    "dataset['date_city_avg_item_cnt'] = dataset['date_city_avg_item_cnt'].astype(np.float16)\n",
    "dataset = lag_feature(dataset, [1], 'date_city_avg_item_cnt')\n",
    "dataset.drop(['date_city_avg_item_cnt'], axis=1, inplace=True)\n",
    "print(\"Mean['item_cnt_month'] by date_block_num, city_code was created ...\")\n",
    "\n",
    "group = dataset.groupby(['date_block_num', 'item_id', 'city_code']).agg({'item_cnt_month': ['mean']})\n",
    "group.columns = ['date_item_city_avg_item_cnt']\n",
    "group.reset_index(inplace=True)\n",
    "dataset = pd.merge(dataset, group, on=['date_block_num', 'item_id', 'city_code'], how='left')\n",
    "dataset['date_item_city_avg_item_cnt'] = dataset['date_item_city_avg_item_cnt'].astype(np.float16)\n",
    "dataset = lag_feature(dataset, [1], 'date_item_city_avg_item_cnt')\n",
    "dataset.drop(['date_item_city_avg_item_cnt'], axis=1, inplace=True)\n",
    "print(\"Mean['item_cnt_month'] by date_block_num, item_id, city_code was created ...\")\n",
    "\n",
    "group = dataset.groupby(['date_block_num', 'type_code']).agg({'item_cnt_month': ['mean']})\n",
    "group.columns = ['date_type_avg_item_cnt']\n",
    "group.reset_index(inplace=True)\n",
    "dataset = pd.merge(dataset, group, on=['date_block_num', 'type_code'], how='left')\n",
    "dataset['date_type_avg_item_cnt'] = dataset['date_type_avg_item_cnt'].astype(np.float16)\n",
    "dataset = lag_feature(dataset, [1], 'date_type_avg_item_cnt')\n",
    "dataset.drop(['date_type_avg_item_cnt'], axis=1, inplace=True)\n",
    "print(\"Mean['item_cnt_month'] by date_block_num, type_code was created ...\")\n",
    "\n",
    "group = dataset.groupby(['date_block_num', 'subtype_code']).agg({'item_cnt_month': ['mean']})\n",
    "group.columns = [ 'date_subtype_avg_item_cnt' ]\n",
    "group.reset_index(inplace=True)\n",
    "dataset = pd.merge(dataset, group, on=['date_block_num', 'subtype_code'], how='left')\n",
    "dataset['date_subtype_avg_item_cnt'] = dataset['date_subtype_avg_item_cnt'].astype(np.float16)\n",
    "dataset = lag_feature(dataset, [1], 'date_subtype_avg_item_cnt')\n",
    "dataset.drop(['date_subtype_avg_item_cnt'], axis=1, inplace=True)\n",
    "print(\"Mean['item_cnt_month'] by date_block_num, subtype_code was created ...\")"
   ]
  },
  {
   "cell_type": "markdown",
   "metadata": {},
   "source": [
    "### Trend features"
   ]
  },
  {
   "cell_type": "code",
   "execution_count": 17,
   "metadata": {},
   "outputs": [],
   "source": [
    "group = train.groupby(['item_id']).agg({'item_price': ['mean']})\n",
    "group.columns = ['item_avg_item_price']\n",
    "group.reset_index(inplace=True)\n",
    "dataset = pd.merge(dataset, group, on=['item_id'], how='left')\n",
    "dataset['item_avg_item_price'] = dataset['item_avg_item_price'].astype(np.float16)\n",
    "\n",
    "group = train.groupby(['date_block_num','item_id']).agg({'item_price': ['mean']})\n",
    "group.columns = ['date_item_avg_item_price']\n",
    "group.reset_index(inplace=True)\n",
    "dataset = pd.merge(dataset, group, on=['date_block_num','item_id'], how='left')\n",
    "dataset['date_item_avg_item_price'] = dataset['date_item_avg_item_price'].astype(np.float16)\n",
    "\n",
    "lags = [1,2,3,4,5,6]\n",
    "dataset = lag_feature(dataset, lags, 'date_item_avg_item_price')\n",
    "\n",
    "for i in lags:\n",
    "    dataset['delta_price_lag_' + str(i)] = \\\n",
    "        (dataset['date_item_avg_item_price_lag_' + str(i)] - dataset['item_avg_item_price']) / dataset['item_avg_item_price']\n",
    "\n",
    "def select_trend(row):\n",
    "    for i in lags:\n",
    "        if row['delta_price_lag_' + str(i)]:\n",
    "            return row['delta_price_lag_' + str(i)]\n",
    "    return 0\n",
    "    \n",
    "dataset['delta_price_lag'] = dataset.apply(select_trend, axis=1)\n",
    "dataset['delta_price_lag'] = dataset['delta_price_lag'].astype(np.float16)\n",
    "dataset['delta_price_lag'].fillna(0, inplace=True)\n",
    "fetures_to_drop = ['item_avg_item_price', 'date_item_avg_item_price']\n",
    "\n",
    "for i in lags:\n",
    "    fetures_to_drop += ['date_item_avg_item_price_lag_'+str(i)]\n",
    "    fetures_to_drop += ['delta_price_lag_'+str(i)]\n",
    "\n",
    "dataset.drop(fetures_to_drop, axis=1, inplace=True)"
   ]
  },
  {
   "cell_type": "markdown",
   "metadata": {},
   "source": [
    "### Revenue month by month"
   ]
  },
  {
   "cell_type": "code",
   "execution_count": 18,
   "metadata": {},
   "outputs": [],
   "source": [
    "group = train.groupby(['date_block_num','shop_id']).agg({'revenue': ['sum']})\n",
    "group.columns = ['date_shop_revenue']\n",
    "group.reset_index(inplace=True)\n",
    "dataset = pd.merge(dataset, group, on=['date_block_num','shop_id'], how='left')\n",
    "dataset['date_shop_revenue'] = dataset['date_shop_revenue'].astype(np.float32)\n",
    "\n",
    "group = group.groupby(['shop_id']).agg({'date_shop_revenue': ['mean']})\n",
    "group.columns = ['shop_avg_revenue']\n",
    "group.reset_index(inplace=True)\n",
    "dataset = pd.merge(dataset, group, on=['shop_id'], how='left')\n",
    "dataset['shop_avg_revenue'] = dataset['shop_avg_revenue'].astype(np.float32)\n",
    "dataset['delta_revenue'] = (dataset['date_shop_revenue'] - dataset['shop_avg_revenue']) / dataset['shop_avg_revenue']\n",
    "dataset['delta_revenue'] = dataset['delta_revenue'].astype(np.float16)\n",
    "\n",
    "dataset = lag_feature(dataset, [1], 'delta_revenue')\n",
    "dataset.drop(['date_shop_revenue','shop_avg_revenue','delta_revenue'], axis=1, inplace=True)"
   ]
  },
  {
   "cell_type": "markdown",
   "metadata": {},
   "source": [
    "### Time features"
   ]
  },
  {
   "cell_type": "code",
   "execution_count": 19,
   "metadata": {},
   "outputs": [],
   "source": [
    "dataset['month'] = dataset['date_block_num'] % 12\n",
    "\n",
    "days = pd.Series([31,28,31,30,31,30,31,31,30,31,30,31])\n",
    "dataset['days'] = dataset['month'].map(days).astype(np.int8)"
   ]
  },
  {
   "cell_type": "code",
   "execution_count": 20,
   "metadata": {},
   "outputs": [],
   "source": [
    "cache = {}\n",
    "dataset['item_shop_last_sale'] = -1\n",
    "dataset['item_shop_last_sale'] = dataset['item_shop_last_sale'].astype(np.int8)\n",
    "for idx, row in dataset.iterrows():    \n",
    "    key = str(row.item_id)+' '+str(row.shop_id)\n",
    "    if key not in cache:\n",
    "        if row.item_cnt_month!=0:\n",
    "            cache[key] = row.date_block_num\n",
    "    else:\n",
    "        last_date_block_num = cache[key]\n",
    "        dataset.at[idx, 'item_shop_last_sale'] = row.date_block_num - last_date_block_num\n",
    "        cache[key] = row.date_block_num\n",
    "        \n",
    "cache = {}\n",
    "dataset['item_last_sale'] = -1\n",
    "dataset['item_last_sale'] = dataset['item_last_sale'].astype(np.int8)\n",
    "for idx, row in dataset.iterrows():    \n",
    "    key = row.item_id\n",
    "    if key not in cache:\n",
    "        if row.item_cnt_month != 0:\n",
    "            cache[key] = row.date_block_num\n",
    "    else:\n",
    "        last_date_block_num = cache[key]\n",
    "        if row.date_block_num > last_date_block_num:\n",
    "            dataset.at[idx, 'item_last_sale'] = row.date_block_num - last_date_block_num\n",
    "            cache[key] = row.date_block_num\n",
    "\n",
    "dataset['item_shop_first_sale'] = dataset['date_block_num'] - dataset.groupby(['item_id','shop_id'])['date_block_num'].transform('min')\n",
    "dataset['item_first_sale'] = dataset['date_block_num'] - dataset.groupby('item_id')['date_block_num'].transform('min')"
   ]
  },
  {
   "cell_type": "markdown",
   "metadata": {},
   "source": [
    "### Drop empty data (because of datadataset contains lags features with lag equal to 12 month), fillna and save"
   ]
  },
  {
   "cell_type": "code",
   "execution_count": 21,
   "metadata": {},
   "outputs": [],
   "source": [
    "dataset = dataset[dataset.date_block_num > 11]\n",
    "\n",
    "def fill_na(df):\n",
    "    for col in df.columns:\n",
    "        if ('_lag_' in col) & (df[col].isnull().any()):\n",
    "            if ('item_cnt' in col):\n",
    "                df[col] = df[col].fillna(0)         \n",
    "    return df\n",
    "\n",
    "dataset = fill_na(dataset)\n",
    "dataset.to_pickle('data.pkl')\n",
    "\n",
    "del dataset\n",
    "del cache\n",
    "del group\n",
    "del items\n",
    "del shops\n",
    "del categories\n",
    "del train\n",
    "gc.collect();"
   ]
  },
  {
   "cell_type": "markdown",
   "metadata": {},
   "source": [
    "## Models building, Feature importance, Stacking of models"
   ]
  },
  {
   "cell_type": "code",
   "execution_count": 22,
   "metadata": {},
   "outputs": [],
   "source": [
    "from xgboost import XGBRegressor\n",
    "import lightgbm\n",
    "from sklearn.metrics import mean_squared_error\n",
    "from sklearn.linear_model import Ridge\n",
    "\n",
    "import shap\n",
    "from hyperopt import fmin, hp, tpe, Trials, space_eval, STATUS_OK, STATUS_RUNNING\n",
    "from hyperopt.pyll import scope"
   ]
  },
  {
   "cell_type": "code",
   "execution_count": 23,
   "metadata": {},
   "outputs": [],
   "source": [
    "test  = pd.read_csv('dataset/test.csv').set_index('ID')"
   ]
  },
  {
   "cell_type": "markdown",
   "metadata": {},
   "source": [
    "### LightGBM with hyperparameters optimization by HyperOpt"
   ]
  },
  {
   "cell_type": "code",
   "execution_count": 24,
   "metadata": {},
   "outputs": [],
   "source": [
    "all_data = pd.read_pickle('data.pkl')"
   ]
  },
  {
   "cell_type": "code",
   "execution_count": 25,
   "metadata": {},
   "outputs": [],
   "source": [
    "X_train_part_1 = all_data[all_data.date_block_num.isin(np.arange(12,28))].drop(['item_cnt_month'], axis=1)\n",
    "Y_train_part_1 = all_data[all_data.date_block_num.isin(np.arange(12,28))]['item_cnt_month']\n",
    "X_train_part_2 = all_data[all_data.date_block_num.isin(np.arange(28,34))].drop(['item_cnt_month'], axis=1)\n",
    "Y_train_part_2 = all_data[all_data.date_block_num.isin(np.arange(28,34))]['item_cnt_month']\n",
    "X_test = all_data[all_data.date_block_num == 34].drop(['item_cnt_month'], axis=1)"
   ]
  },
  {
   "cell_type": "code",
   "execution_count": 26,
   "metadata": {},
   "outputs": [],
   "source": [
    "del all_data\n",
    "gc.collect();"
   ]
  },
  {
   "cell_type": "code",
   "execution_count": 27,
   "metadata": {},
   "outputs": [],
   "source": [
    "def get_hyperopt_score_lgb(params):\n",
    "    \n",
    "    def train(\n",
    "            params,\n",
    "            train_set,\n",
    "            train_name,\n",
    "            valid_set,\n",
    "            valid_name,\n",
    "            num_boost_round,\n",
    "            evals_result,\n",
    "            early_stopping_rounds,\n",
    "            verbose_eval,\n",
    "            **kwargs):\n",
    "        model = lightgbm.train(params=params,\n",
    "                          train_set=train_set,\n",
    "                          valid_sets=[train_set, valid_set],\n",
    "                          valid_names=[train_name, valid_name],\n",
    "                          num_boost_round=num_boost_round,\n",
    "                          evals_result=evals_result,\n",
    "                          early_stopping_rounds=early_stopping_rounds,\n",
    "                          verbose_eval=verbose_eval,\n",
    "                          **kwargs)\n",
    "        return model\n",
    "    \n",
    "    def get_dataset(data, label, **kwargs):\n",
    "        return lightgbm.Dataset(data=data, label=label, **kwargs)\n",
    "    \n",
    "    date_block_num = np.unique(X_train_part_1.date_block_num)\n",
    "    xtrain = X_train_part_1[X_train_part_1.date_block_num.isin(np.arange(12,25))]\n",
    "    ytrain = Y_train_part_1[X_train_part_1.date_block_num.isin(np.arange(12,25))]\n",
    "    xvalid = X_train_part_1[X_train_part_1.date_block_num.isin(np.arange(25,28))]\n",
    "    yvalid = Y_train_part_1[X_train_part_1.date_block_num.isin(np.arange(25,28))]\n",
    "    \n",
    "    xtrain = xtrain.drop(\"date_block_num\", axis=1)\n",
    "    xvalid = xvalid.drop(\"date_block_num\", axis=1)\n",
    "        \n",
    "    dtrain = get_dataset(data=xtrain.astype(float), label=ytrain)\n",
    "    dvalid = get_dataset(data=xvalid.astype(float), label=yvalid)\n",
    "    evals_result = {}    \n",
    "    model = train(\n",
    "        params=params,\n",
    "        train_set=dtrain,\n",
    "        train_name='train',\n",
    "        valid_set=dvalid,\n",
    "        valid_name='valid',\n",
    "        num_boost_round=9999,\n",
    "        evals_result=evals_result,\n",
    "        early_stopping_rounds=15,\n",
    "        verbose_eval=False)\n",
    "        \n",
    "    score = model.best_score['valid']['rmse']\n",
    "    print(score, params)\n",
    "    return score"
   ]
  },
  {
   "cell_type": "code",
   "execution_count": 28,
   "metadata": {},
   "outputs": [
    {
     "name": "stdout",
     "output_type": "stream",
     "text": [
      "0.8027686605757742                                    \n",
      "{'bagging_fraction': 0.9042884176770191, 'bagging_freq': 5, 'bagging_seed': 0, 'boosting_type': 'gbdt', 'data_random_seed': 0, 'drop_seed': 0, 'feature_fraction': 0.8442613008293077, 'feature_fraction_seed': 0, 'lambda_l1': 1.9133396008612988, 'lambda_l2': 0.47152803669745474, 'learning_rate': 0.03, 'max_bin': 255, 'max_depth': 46, 'metric': 'rmse', 'min_data_in_leaf': 138, 'min_sum_hessian_in_leaf': 3.6711602313330407, 'nthreads': -1, 'num_leaves': 486, 'objective': 'regression', 'seed': 0, 'verbose': -1}\n",
      "0.8021756692431773                                                              \n",
      "{'bagging_fraction': 0.7548338550848538, 'bagging_freq': 5, 'bagging_seed': 0, 'boosting_type': 'gbdt', 'data_random_seed': 0, 'drop_seed': 0, 'feature_fraction': 0.9499964607843765, 'feature_fraction_seed': 0, 'lambda_l1': 1.7461045021215358, 'lambda_l2': 0.06249815643558211, 'learning_rate': 0.03, 'max_bin': 255, 'max_depth': 43, 'metric': 'rmse', 'min_data_in_leaf': 107, 'min_sum_hessian_in_leaf': 1.1100698877641058, 'nthreads': -1, 'num_leaves': 341, 'objective': 'regression', 'seed': 0, 'verbose': -1}\n",
      "0.8044874297367495                                                              \n",
      "{'bagging_fraction': 0.8145710944564504, 'bagging_freq': 5, 'bagging_seed': 0, 'boosting_type': 'gbdt', 'data_random_seed': 0, 'drop_seed': 0, 'feature_fraction': 0.9597812532498551, 'feature_fraction_seed': 0, 'lambda_l1': 0.9276621387989291, 'lambda_l2': 1.1439219857527192, 'learning_rate': 0.03, 'max_bin': 255, 'max_depth': 26, 'metric': 'rmse', 'min_data_in_leaf': 126, 'min_sum_hessian_in_leaf': 1.9951276432697884, 'nthreads': -1, 'num_leaves': 351, 'objective': 'regression', 'seed': 0, 'verbose': -1}\n",
      "0.801460790334535                                                               \n",
      "{'bagging_fraction': 0.8393749144962529, 'bagging_freq': 5, 'bagging_seed': 0, 'boosting_type': 'gbdt', 'data_random_seed': 0, 'drop_seed': 0, 'feature_fraction': 0.8542669901103521, 'feature_fraction_seed': 0, 'lambda_l1': 1.022070922910069, 'lambda_l2': 1.2503174606774496, 'learning_rate': 0.03, 'max_bin': 255, 'max_depth': 45, 'metric': 'rmse', 'min_data_in_leaf': 81, 'min_sum_hessian_in_leaf': 2.360327458625854, 'nthreads': -1, 'num_leaves': 307, 'objective': 'regression', 'seed': 0, 'verbose': -1}\n",
      "0.8057166216515446                                                              \n",
      "{'bagging_fraction': 0.948612358006919, 'bagging_freq': 5, 'bagging_seed': 0, 'boosting_type': 'gbdt', 'data_random_seed': 0, 'drop_seed': 0, 'feature_fraction': 0.9126529622375006, 'feature_fraction_seed': 0, 'lambda_l1': 1.753379524454281, 'lambda_l2': 1.8297454943654707, 'learning_rate': 0.03, 'max_bin': 255, 'max_depth': 23, 'metric': 'rmse', 'min_data_in_leaf': 128, 'min_sum_hessian_in_leaf': 2.5184516448133034, 'nthreads': -1, 'num_leaves': 113, 'objective': 'regression', 'seed': 0, 'verbose': -1}\n",
      "0.8037642269369738                                                             \n",
      "{'bagging_fraction': 0.8786718040908664, 'bagging_freq': 5, 'bagging_seed': 0, 'boosting_type': 'gbdt', 'data_random_seed': 0, 'drop_seed': 0, 'feature_fraction': 0.9594145289114208, 'feature_fraction_seed': 0, 'lambda_l1': 0.5306839837455674, 'lambda_l2': 0.2231014082697319, 'learning_rate': 0.03, 'max_bin': 255, 'max_depth': 12, 'metric': 'rmse', 'min_data_in_leaf': 39, 'min_sum_hessian_in_leaf': 3.803782170920074, 'nthreads': -1, 'num_leaves': 148, 'objective': 'regression', 'seed': 0, 'verbose': -1}\n",
      "0.8043218449980706                                                             \n",
      "{'bagging_fraction': 0.8143414316391205, 'bagging_freq': 5, 'bagging_seed': 0, 'boosting_type': 'gbdt', 'data_random_seed': 0, 'drop_seed': 0, 'feature_fraction': 0.964977542282912, 'feature_fraction_seed': 0, 'lambda_l1': 0.24565269589652244, 'lambda_l2': 1.6932272614110573, 'learning_rate': 0.03, 'max_bin': 255, 'max_depth': 15, 'metric': 'rmse', 'min_data_in_leaf': 16, 'min_sum_hessian_in_leaf': 9.221887787201826, 'nthreads': -1, 'num_leaves': 333, 'objective': 'regression', 'seed': 0, 'verbose': -1}\n",
      "0.8013661193162922                                                             \n",
      "{'bagging_fraction': 0.932751232155782, 'bagging_freq': 5, 'bagging_seed': 0, 'boosting_type': 'gbdt', 'data_random_seed': 0, 'drop_seed': 0, 'feature_fraction': 0.8285359724749609, 'feature_fraction_seed': 0, 'lambda_l1': 0.541954822498122, 'lambda_l2': 1.7626397511125993, 'learning_rate': 0.03, 'max_bin': 255, 'max_depth': 38, 'metric': 'rmse', 'min_data_in_leaf': 140, 'min_sum_hessian_in_leaf': 2.311706243374604, 'nthreads': -1, 'num_leaves': 392, 'objective': 'regression', 'seed': 0, 'verbose': -1}\n",
      "0.8003923884333363                                                              \n",
      "{'bagging_fraction': 0.9471973484504972, 'bagging_freq': 5, 'bagging_seed': 0, 'boosting_type': 'gbdt', 'data_random_seed': 0, 'drop_seed': 0, 'feature_fraction': 0.8534749799349772, 'feature_fraction_seed': 0, 'lambda_l1': 0.07580916264274923, 'lambda_l2': 1.6841625102391757, 'learning_rate': 0.03, 'max_bin': 255, 'max_depth': 27, 'metric': 'rmse', 'min_data_in_leaf': 123, 'min_sum_hessian_in_leaf': 1.7092420745560766, 'nthreads': -1, 'num_leaves': 364, 'objective': 'regression', 'seed': 0, 'verbose': -1}\n",
      "0.7994534195209142                                                              \n",
      "{'bagging_fraction': 0.7997568394421314, 'bagging_freq': 5, 'bagging_seed': 0, 'boosting_type': 'gbdt', 'data_random_seed': 0, 'drop_seed': 0, 'feature_fraction': 0.8155674572954248, 'feature_fraction_seed': 0, 'lambda_l1': 1.9924703222113558, 'lambda_l2': 1.5031876328841942, 'learning_rate': 0.03, 'max_bin': 255, 'max_depth': 36, 'metric': 'rmse', 'min_data_in_leaf': 20, 'min_sum_hessian_in_leaf': 3.1561289186613046, 'nthreads': -1, 'num_leaves': 255, 'objective': 'regression', 'seed': 0, 'verbose': -1}\n",
      "100%|██████████| 10/10 [04:58<00:00, 29.85s/trial, best loss: 0.7994534195209142]\n",
      "best: {'bagging_fraction': 0.7997568394421314, 'feature_fraction': 0.8155674572954248, 'lambda_l1': 1.9924703222113558, 'lambda_l2': 1.5031876328841942, 'max_depth': 36.0, 'min_data_in_leaf': 20.0, 'min_sum_hessian_in_leaf': 3.1561289186613046, 'num_leaves': 255.0}\n"
     ]
    }
   ],
   "source": [
    "space_lgb = {\n",
    "    'num_leaves': scope.int(hp.quniform('num_leaves', 100, 500, 1)),\n",
    "    'max_depth': scope.int(hp.quniform('max_depth', 10, 70, 1)),\n",
    "    'min_data_in_leaf': scope.int(hp.quniform('min_data_in_leaf', 10, 150, 1)),\n",
    "    'feature_fraction': hp.uniform('feature_fraction', 0.75, 1.0),\n",
    "    'bagging_fraction': hp.uniform('bagging_fraction', 0.75, 1.0),\n",
    "    'min_sum_hessian_in_leaf': hp.loguniform('min_sum_hessian_in_leaf', 0, 2.3),\n",
    "    'lambda_l1': hp.uniform('lambda_l1', 1e-4, 2),\n",
    "    'lambda_l2': hp.uniform('lambda_l2', 1e-4, 2),\n",
    "    'seed': 0,\n",
    "    'feature_fraction_seed': 0,\n",
    "    'bagging_seed': 0,\n",
    "    'drop_seed': 0,\n",
    "    'data_random_seed': 0,\n",
    "    'verbose': -1,\n",
    "    'bagging_freq': 5,\n",
    "    'max_bin': 255,\n",
    "    'learning_rate': 0.03,\n",
    "    'boosting_type': 'gbdt',\n",
    "    'objective': 'regression',\n",
    "    'metric': 'rmse',\n",
    "    'nthreads': -1,\n",
    "}\n",
    "\n",
    "best = fmin(fn=get_hyperopt_score_lgb, space=space_lgb, algo=tpe.suggest, max_evals=10)\n",
    "print('best: {}'.format(best))"
   ]
  },
  {
   "cell_type": "code",
   "execution_count": 29,
   "metadata": {},
   "outputs": [
    {
     "name": "stdout",
     "output_type": "stream",
     "text": [
      "{'num_leaves': 255, 'max_depth': 36, 'min_data_in_leaf': 20, 'feature_fraction': 0.8155674572954248, 'bagging_fraction': 0.7997568394421314, 'min_sum_hessian_in_leaf': 3.1561289186613046, 'lambda_l1': 1.9924703222113558, 'lambda_l2': 1.5031876328841942, 'seed': 0, 'feature_fraction_seed': 0, 'bagging_seed': 0, 'drop_seed': 0, 'data_random_seed': 0, 'verbose': -1, 'bagging_freq': 5, 'max_bin': 255, 'learning_rate': 0.03, 'boosting_type': 'gbdt', 'objective': 'regression', 'metric': 'rmse', 'nthreads': -1}\n"
     ]
    }
   ],
   "source": [
    "params_best = space_lgb\n",
    "\n",
    "for param in list(best.keys()):\n",
    "    if param in ['num_leaves', 'max_depth', 'seed', 'feature_fraction_seed', 'min_data_in_leaf', \n",
    "                 'bagging_seed', 'drop_seed', 'max_bin', 'bagging_freq']:\n",
    "        params_best[param] = int(best[param])\n",
    "    else:\n",
    "        params_best[param] = best[param]\n",
    "        \n",
    "print(params_best)"
   ]
  },
  {
   "cell_type": "code",
   "execution_count": 30,
   "metadata": {},
   "outputs": [
    {
     "name": "stdout",
     "output_type": "stream",
     "text": [
      "[1]\ttrain's rmse: 1.21672\tvalid's rmse: 1.06933\n",
      "Training until validation scores don't improve for 25 rounds\n",
      "[2]\ttrain's rmse: 1.19939\tvalid's rmse: 1.05432\n",
      "[3]\ttrain's rmse: 1.18271\tvalid's rmse: 1.03959\n",
      "[4]\ttrain's rmse: 1.16629\tvalid's rmse: 1.02541\n",
      "[5]\ttrain's rmse: 1.15045\tvalid's rmse: 1.01198\n",
      "[6]\ttrain's rmse: 1.13524\tvalid's rmse: 0.999297\n",
      "[7]\ttrain's rmse: 1.12089\tvalid's rmse: 0.987658\n",
      "[8]\ttrain's rmse: 1.10697\tvalid's rmse: 0.976449\n",
      "[9]\ttrain's rmse: 1.09406\tvalid's rmse: 0.965344\n",
      "[10]\ttrain's rmse: 1.08142\tvalid's rmse: 0.955391\n",
      "[11]\ttrain's rmse: 1.0692\tvalid's rmse: 0.945835\n",
      "[12]\ttrain's rmse: 1.05788\tvalid's rmse: 0.936586\n",
      "[13]\ttrain's rmse: 1.0467\tvalid's rmse: 0.928296\n",
      "[14]\ttrain's rmse: 1.036\tvalid's rmse: 0.920384\n",
      "[15]\ttrain's rmse: 1.02564\tvalid's rmse: 0.912658\n",
      "[16]\ttrain's rmse: 1.01586\tvalid's rmse: 0.905627\n",
      "[17]\ttrain's rmse: 1.00645\tvalid's rmse: 0.898354\n",
      "[18]\ttrain's rmse: 0.99736\tvalid's rmse: 0.892129\n",
      "[19]\ttrain's rmse: 0.988634\tvalid's rmse: 0.886272\n",
      "[20]\ttrain's rmse: 0.980641\tvalid's rmse: 0.880175\n",
      "[21]\ttrain's rmse: 0.972785\tvalid's rmse: 0.875216\n",
      "[22]\ttrain's rmse: 0.965531\tvalid's rmse: 0.870182\n",
      "[23]\ttrain's rmse: 0.958513\tvalid's rmse: 0.86508\n",
      "[24]\ttrain's rmse: 0.951629\tvalid's rmse: 0.86098\n",
      "[25]\ttrain's rmse: 0.944816\tvalid's rmse: 0.857241\n",
      "[26]\ttrain's rmse: 0.938594\tvalid's rmse: 0.853463\n",
      "[27]\ttrain's rmse: 0.932537\tvalid's rmse: 0.849864\n",
      "[28]\ttrain's rmse: 0.926938\tvalid's rmse: 0.846202\n",
      "[29]\ttrain's rmse: 0.921176\tvalid's rmse: 0.843104\n",
      "[30]\ttrain's rmse: 0.915843\tvalid's rmse: 0.840242\n",
      "[31]\ttrain's rmse: 0.910671\tvalid's rmse: 0.837718\n",
      "[32]\ttrain's rmse: 0.905674\tvalid's rmse: 0.835188\n",
      "[33]\ttrain's rmse: 0.901075\tvalid's rmse: 0.832633\n",
      "[34]\ttrain's rmse: 0.896573\tvalid's rmse: 0.830067\n",
      "[35]\ttrain's rmse: 0.892401\tvalid's rmse: 0.827481\n",
      "[36]\ttrain's rmse: 0.888097\tvalid's rmse: 0.82506\n",
      "[37]\ttrain's rmse: 0.884256\tvalid's rmse: 0.822945\n",
      "[38]\ttrain's rmse: 0.880756\tvalid's rmse: 0.821097\n",
      "[39]\ttrain's rmse: 0.876892\tvalid's rmse: 0.819569\n",
      "[40]\ttrain's rmse: 0.873123\tvalid's rmse: 0.818127\n",
      "[41]\ttrain's rmse: 0.869705\tvalid's rmse: 0.816589\n",
      "[42]\ttrain's rmse: 0.866348\tvalid's rmse: 0.815273\n",
      "[43]\ttrain's rmse: 0.863163\tvalid's rmse: 0.813644\n",
      "[44]\ttrain's rmse: 0.859916\tvalid's rmse: 0.812448\n",
      "[45]\ttrain's rmse: 0.857111\tvalid's rmse: 0.811182\n",
      "[46]\ttrain's rmse: 0.854109\tvalid's rmse: 0.81036\n",
      "[47]\ttrain's rmse: 0.851376\tvalid's rmse: 0.809378\n",
      "[48]\ttrain's rmse: 0.848467\tvalid's rmse: 0.808301\n",
      "[49]\ttrain's rmse: 0.845754\tvalid's rmse: 0.807757\n",
      "[50]\ttrain's rmse: 0.843285\tvalid's rmse: 0.806775\n",
      "[51]\ttrain's rmse: 0.840849\tvalid's rmse: 0.805949\n",
      "[52]\ttrain's rmse: 0.838422\tvalid's rmse: 0.805217\n",
      "[53]\ttrain's rmse: 0.836091\tvalid's rmse: 0.80461\n",
      "[54]\ttrain's rmse: 0.833814\tvalid's rmse: 0.803764\n",
      "[55]\ttrain's rmse: 0.831831\tvalid's rmse: 0.803161\n",
      "[56]\ttrain's rmse: 0.829817\tvalid's rmse: 0.802662\n",
      "[57]\ttrain's rmse: 0.827738\tvalid's rmse: 0.802194\n",
      "[58]\ttrain's rmse: 0.825959\tvalid's rmse: 0.802039\n",
      "[59]\ttrain's rmse: 0.824153\tvalid's rmse: 0.801776\n",
      "[60]\ttrain's rmse: 0.822509\tvalid's rmse: 0.801488\n",
      "[61]\ttrain's rmse: 0.820544\tvalid's rmse: 0.801415\n",
      "[62]\ttrain's rmse: 0.818723\tvalid's rmse: 0.801298\n",
      "[63]\ttrain's rmse: 0.817174\tvalid's rmse: 0.800984\n",
      "[64]\ttrain's rmse: 0.815593\tvalid's rmse: 0.800834\n",
      "[65]\ttrain's rmse: 0.814027\tvalid's rmse: 0.800509\n",
      "[66]\ttrain's rmse: 0.812491\tvalid's rmse: 0.80023\n",
      "[67]\ttrain's rmse: 0.811204\tvalid's rmse: 0.800055\n",
      "[68]\ttrain's rmse: 0.809998\tvalid's rmse: 0.799901\n",
      "[69]\ttrain's rmse: 0.808477\tvalid's rmse: 0.799922\n",
      "[70]\ttrain's rmse: 0.807163\tvalid's rmse: 0.799842\n",
      "[71]\ttrain's rmse: 0.80584\tvalid's rmse: 0.799702\n",
      "[72]\ttrain's rmse: 0.804608\tvalid's rmse: 0.799571\n",
      "[73]\ttrain's rmse: 0.803283\tvalid's rmse: 0.799453\n",
      "[74]\ttrain's rmse: 0.80208\tvalid's rmse: 0.799535\n",
      "[75]\ttrain's rmse: 0.800936\tvalid's rmse: 0.799854\n",
      "[76]\ttrain's rmse: 0.799564\tvalid's rmse: 0.799943\n",
      "[77]\ttrain's rmse: 0.798215\tvalid's rmse: 0.800202\n",
      "[78]\ttrain's rmse: 0.796974\tvalid's rmse: 0.800269\n",
      "[79]\ttrain's rmse: 0.7959\tvalid's rmse: 0.800464\n",
      "[80]\ttrain's rmse: 0.794677\tvalid's rmse: 0.800536\n",
      "[81]\ttrain's rmse: 0.79356\tvalid's rmse: 0.80065\n",
      "[82]\ttrain's rmse: 0.792375\tvalid's rmse: 0.800726\n",
      "[83]\ttrain's rmse: 0.791247\tvalid's rmse: 0.800853\n",
      "[84]\ttrain's rmse: 0.790296\tvalid's rmse: 0.800948\n",
      "[85]\ttrain's rmse: 0.789367\tvalid's rmse: 0.800969\n",
      "[86]\ttrain's rmse: 0.788365\tvalid's rmse: 0.801247\n",
      "[87]\ttrain's rmse: 0.787311\tvalid's rmse: 0.801288\n",
      "[88]\ttrain's rmse: 0.786146\tvalid's rmse: 0.801472\n",
      "[89]\ttrain's rmse: 0.785148\tvalid's rmse: 0.80189\n",
      "[90]\ttrain's rmse: 0.784178\tvalid's rmse: 0.801994\n",
      "[91]\ttrain's rmse: 0.783128\tvalid's rmse: 0.802117\n",
      "[92]\ttrain's rmse: 0.782338\tvalid's rmse: 0.802185\n",
      "[93]\ttrain's rmse: 0.781371\tvalid's rmse: 0.802316\n",
      "[94]\ttrain's rmse: 0.780491\tvalid's rmse: 0.802645\n",
      "[95]\ttrain's rmse: 0.779678\tvalid's rmse: 0.802883\n",
      "[96]\ttrain's rmse: 0.778832\tvalid's rmse: 0.802989\n",
      "[97]\ttrain's rmse: 0.777871\tvalid's rmse: 0.80314\n",
      "[98]\ttrain's rmse: 0.776992\tvalid's rmse: 0.803242\n",
      "Early stopping, best iteration is:\n",
      "[73]\ttrain's rmse: 0.803283\tvalid's rmse: 0.799453\n",
      "0.7994534195209141 {'num_leaves': 255, 'max_depth': 36, 'min_data_in_leaf': 20, 'feature_fraction': 0.8155674572954248, 'bagging_fraction': 0.7997568394421314, 'min_sum_hessian_in_leaf': 3.1561289186613046, 'lambda_l1': 1.9924703222113558, 'lambda_l2': 1.5031876328841942, 'seed': 0, 'feature_fraction_seed': 0, 'bagging_seed': 0, 'drop_seed': 0, 'data_random_seed': 0, 'verbose': -1, 'bagging_freq': 5, 'max_bin': 255, 'learning_rate': 0.03, 'boosting_type': 'gbdt', 'objective': 'regression', 'metric': 'rmse', 'nthreads': -1}\n"
     ]
    }
   ],
   "source": [
    "date_block_num = np.unique(X_train_part_1.date_block_num)\n",
    "xtrain = X_train_part_1[X_train_part_1.date_block_num.isin(np.arange(12,25))]\n",
    "ytrain = Y_train_part_1[X_train_part_1.date_block_num.isin(np.arange(12,25))]\n",
    "xvalid = X_train_part_1[X_train_part_1.date_block_num.isin(np.arange(25,28))]\n",
    "yvalid = Y_train_part_1[X_train_part_1.date_block_num.isin(np.arange(25,28))]\n",
    "\n",
    "xtrain = xtrain.drop(\"date_block_num\", axis=1)\n",
    "xvalid = xvalid.drop(\"date_block_num\", axis=1)\n",
    "\n",
    "dtrain = lightgbm.Dataset(data=xtrain.astype(float), label=ytrain)\n",
    "dvalid = lightgbm.Dataset(data=xvalid.astype(float), label=yvalid)\n",
    "evals_result = {}    \n",
    "model = lightgbm.train(\n",
    "        params=params_best,\n",
    "        train_set=dtrain,\n",
    "        valid_sets=[dtrain, dvalid],\n",
    "        valid_names=['train', 'valid'], \n",
    "        num_boost_round=9999,\n",
    "        evals_result=evals_result,\n",
    "        early_stopping_rounds=25,\n",
    "        verbose_eval=True)\n",
    "\n",
    "score = model.best_score['valid']['rmse']\n",
    "print(score, params_best)"
   ]
  },
  {
   "cell_type": "code",
   "execution_count": 31,
   "metadata": {},
   "outputs": [
    {
     "name": "stderr",
     "output_type": "stream",
     "text": [
      "Setting feature_perturbation = \"tree_path_dependent\" because no background data was given.\n"
     ]
    },
    {
     "data": {
      "image/png": "[encoded data removed]",
      "text/plain": [
       "<Figure size 842.4x1224 with 1 Axes>"
      ]
     },
     "metadata": {},
     "output_type": "display_data"
    }
   ],
   "source": [
    "explainer = shap.TreeExplainer(model)\n",
    "df_sample = X_train_part_1[model.feature_name()].sample(n=10000, random_state=0, replace=True).astype(float)\n",
    "shap_values = explainer.shap_values(df_sample)\n",
    "features_by_shap = \\\n",
    "    pd.DataFrame(zip(model.feature_name(), np.mean(np.abs(shap_values), axis=0)), columns=['feature', 'shap_value']) \\\n",
    "        .sort_values(by='shap_value', ascending=False)\n",
    "\n",
    "sns.set(rc={'figure.figsize':(11.7, 17)})\n",
    "sns.set_style('ticks', {'xtick.major.size': 8, 'ytick.major.size': 8})\n",
    "ax = sns.barplot(x='shap_value', y='feature', data=features_by_shap)\n",
    "ax.set(xlabel='mean(|SHAPE value|)(average impact on model output magnitude)');"
   ]
  },
  {
   "cell_type": "code",
   "execution_count": 32,
   "metadata": {},
   "outputs": [
    {
     "data": {
      "image/png": "[encoded data removed]",
      "text/plain": [
       "<Figure size 576x684 with 2 Axes>"
      ]
     },
     "metadata": {},
     "output_type": "display_data"
    }
   ],
   "source": [
    "shap.summary_plot(shap_values, df_sample);"
   ]
  },
  {
   "cell_type": "code",
   "execution_count": 34,
   "metadata": {},
   "outputs": [],
   "source": [
    "Y_test = model.predict(X_test.drop(\"date_block_num\", axis=1)).clip(0, 20)\n",
    "\n",
    "submission = pd.DataFrame({\n",
    "    \"ID\": test.index, \n",
    "    \"item_cnt_month\": Y_test\n",
    "})\n",
    "submission.to_csv('lgb_final.csv', index=False)"
   ]
  },
  {
   "cell_type": "code",
   "execution_count": 35,
   "metadata": {},
   "outputs": [],
   "source": [
    "y_pred_lgb = model.predict(X_train_part_2.drop(\"date_block_num\", axis=1))\n",
    "Y_test_pred_lgb = model.predict(X_test.drop(\"date_block_num\", axis=1))"
   ]
  },
  {
   "cell_type": "markdown",
   "metadata": {},
   "source": [
    "### XGBoost with hyperparameters optimization by HyperOpt"
   ]
  },
  {
   "cell_type": "code",
   "execution_count": 36,
   "metadata": {},
   "outputs": [],
   "source": [
    "all_data = pd.read_pickle('data.pkl')"
   ]
  },
  {
   "cell_type": "code",
   "execution_count": 37,
   "metadata": {},
   "outputs": [],
   "source": [
    "data = all_data[[\n",
    "    'date_block_num',\n",
    "    'shop_id',\n",
    "    'item_id',\n",
    "    'item_cnt_month',\n",
    "    'city_code',\n",
    "    'item_category_id',\n",
    "    'type_code',\n",
    "    'subtype_code',\n",
    "    'item_cnt_month_lag_1',\n",
    "    'item_cnt_month_lag_2',\n",
    "    'item_cnt_month_lag_3',\n",
    "    'item_cnt_month_lag_6',\n",
    "    'item_cnt_month_lag_12',\n",
    "    'delta_price_lag',\n",
    "    'month',\n",
    "    'days',\n",
    "    'item_shop_last_sale',\n",
    "    'item_last_sale',\n",
    "    'item_shop_first_sale',\n",
    "    'item_first_sale',\n",
    "]]"
   ]
  },
  {
   "cell_type": "code",
   "execution_count": 38,
   "metadata": {},
   "outputs": [],
   "source": [
    "X_train_part_1 = all_data[all_data.date_block_num.isin(np.arange(12,28))].drop(['item_cnt_month'], axis=1)\n",
    "Y_train_part_1 = all_data[all_data.date_block_num.isin(np.arange(12,28))]['item_cnt_month']\n",
    "X_train_part_2 = all_data[all_data.date_block_num.isin(np.arange(28,34))].drop(['item_cnt_month'], axis=1)\n",
    "Y_train_part_2 = all_data[all_data.date_block_num.isin(np.arange(28,34))]['item_cnt_month']\n",
    "X_test = all_data[all_data.date_block_num == 34].drop(['item_cnt_month'], axis=1)"
   ]
  },
  {
   "cell_type": "code",
   "execution_count": 39,
   "metadata": {},
   "outputs": [],
   "source": [
    "del all_data, data\n",
    "gc.collect();"
   ]
  },
  {
   "cell_type": "code",
   "execution_count": 40,
   "metadata": {},
   "outputs": [],
   "source": [
    "def get_hyperopt_score_xgb(params):\n",
    "    \n",
    "    def train(\n",
    "            params,\n",
    "            X_train,\n",
    "            Y_train,\n",
    "            X_valid, \n",
    "            Y_valid,\n",
    "            early_stopping_rounds,\n",
    "            verbose_eval,\n",
    "            **kwargs):\n",
    "        model = XGBRegressor(**params).fit(X_train, \n",
    "                                           Y_train, \n",
    "                                           eval_metric=\"rmse\", \n",
    "                                           eval_set=[(X_train, Y_train), (X_valid, Y_valid)], \n",
    "                                           verbose=verbose_eval, \n",
    "                                           early_stopping_rounds=early_stopping_rounds)\n",
    "        return model\n",
    "    \n",
    "    date_block_num = np.unique(X_train_part_1.date_block_num)\n",
    "    xtrain = X_train_part_1[X_train_part_1.date_block_num.isin(np.arange(12,25))]\n",
    "    ytrain = Y_train_part_1[X_train_part_1.date_block_num.isin(np.arange(12,25))]\n",
    "    xvalid = X_train_part_1[X_train_part_1.date_block_num.isin(np.arange(25,28))]\n",
    "    yvalid = Y_train_part_1[X_train_part_1.date_block_num.isin(np.arange(25,28))]\n",
    "    \n",
    "    xtrain = xtrain.drop(\"date_block_num\", axis=1)\n",
    "    xvalid = xvalid.drop(\"date_block_num\", axis=1)\n",
    "    \n",
    "    model = train(\n",
    "        params=params,\n",
    "        X_train=xtrain,\n",
    "        Y_train=ytrain,\n",
    "        X_valid=xvalid, \n",
    "        Y_valid=yvalid,\n",
    "        early_stopping_rounds=10,\n",
    "        verbose_eval=False)\n",
    "        \n",
    "    score = model.best_score\n",
    "    print(score, params)\n",
    "    return score"
   ]
  },
  {
   "cell_type": "code",
   "execution_count": 41,
   "metadata": {},
   "outputs": [
    {
     "name": "stdout",
     "output_type": "stream",
     "text": [
      "[17:49:13] WARNING: /workspace/src/gbm/gbtree.cc:139: Tree method is automatically selected to be 'approx' for faster speed. To use old behavior (exact greedy algorithm on single machine), set tree_method to 'exact'.\n",
      "0.803186                                              \n",
      "{'colsample_bytree': 0.9099124161115866, 'eta': 0.09, 'gamma': 0.5, 'max_depth': 16, 'min_child_weight': 300, 'n_estimators': 1100, 'seed': 40, 'subsample': 0.8010044561610179}\n",
      "[17:53:07] WARNING: /workspace/src/gbm/gbtree.cc:139: Tree method is automatically selected to be 'approx' for faster speed. To use old behavior (exact greedy algorithm on single machine), set tree_method to 'exact'.\n",
      "0.813338                                                               \n",
      "{'colsample_bytree': 0.9204835950153516, 'eta': 0.09, 'gamma': 0.75, 'max_depth': 6, 'min_child_weight': 200, 'n_estimators': 2000, 'seed': 40, 'subsample': 0.9504486641846138}\n",
      "[17:54:54] WARNING: /workspace/src/gbm/gbtree.cc:139: Tree method is automatically selected to be 'approx' for faster speed. To use old behavior (exact greedy algorithm on single machine), set tree_method to 'exact'.\n",
      "0.814312                                                               \n",
      "{'colsample_bytree': 0.9306885388567874, 'eta': 0.09, 'gamma': 0.65, 'max_depth': 6, 'min_child_weight': 300, 'n_estimators': 1500, 'seed': 40, 'subsample': 0.6733473829671769}\n",
      "[17:56:50] WARNING: /workspace/src/gbm/gbtree.cc:139: Tree method is automatically selected to be 'approx' for faster speed. To use old behavior (exact greedy algorithm on single machine), set tree_method to 'exact'.\n",
      "0.805307                                                               \n",
      "{'colsample_bytree': 0.9463397952330939, 'eta': 0.09, 'gamma': 0.75, 'max_depth': 14, 'min_child_weight': 250, 'n_estimators': 1200, 'seed': 40, 'subsample': 0.761606828439421}\n",
      "[18:00:07] WARNING: /workspace/src/gbm/gbtree.cc:139: Tree method is automatically selected to be 'approx' for faster speed. To use old behavior (exact greedy algorithm on single machine), set tree_method to 'exact'.\n",
      "0.800622                                                               \n",
      "{'colsample_bytree': 0.6920675341467685, 'eta': 0.09, 'gamma': 0.8, 'max_depth': 26, 'min_child_weight': 700, 'n_estimators': 1000, 'seed': 40, 'subsample': 0.8005345732929527}\n",
      "[18:05:08] WARNING: /workspace/src/gbm/gbtree.cc:139: Tree method is automatically selected to be 'approx' for faster speed. To use old behavior (exact greedy algorithm on single machine), set tree_method to 'exact'.\n",
      "0.805102                                                               \n",
      "{'colsample_bytree': 0.7501043669085222, 'eta': 0.09, 'gamma': 0.9500000000000001, 'max_depth': 18, 'min_child_weight': 100, 'n_estimators': 1600, 'seed': 40, 'subsample': 0.9899949404150528}\n",
      "[18:08:29] WARNING: /workspace/src/gbm/gbtree.cc:139: Tree method is automatically selected to be 'approx' for faster speed. To use old behavior (exact greedy algorithm on single machine), set tree_method to 'exact'.\n",
      "0.80319                                                                \n",
      "{'colsample_bytree': 0.9237029336386009, 'eta': 0.09, 'gamma': 0.9, 'max_depth': 20, 'min_child_weight': 400, 'n_estimators': 1000, 'seed': 40, 'subsample': 0.8043951880279442}\n",
      "[18:13:25] WARNING: /workspace/src/gbm/gbtree.cc:139: Tree method is automatically selected to be 'approx' for faster speed. To use old behavior (exact greedy algorithm on single machine), set tree_method to 'exact'.\n",
      "0.800989                                                               \n",
      "{'colsample_bytree': 0.7302267739027251, 'eta': 0.09, 'gamma': 0.8500000000000001, 'max_depth': 18, 'min_child_weight': 600, 'n_estimators': 1000, 'seed': 40, 'subsample': 0.7327877361130286}\n",
      "[18:16:56] WARNING: /workspace/src/gbm/gbtree.cc:139: Tree method is automatically selected to be 'approx' for faster speed. To use old behavior (exact greedy algorithm on single machine), set tree_method to 'exact'.\n",
      "0.803153                                                               \n",
      "{'colsample_bytree': 0.9224091890374675, 'eta': 0.09, 'gamma': 0.6000000000000001, 'max_depth': 12, 'min_child_weight': 400, 'n_estimators': 1100, 'seed': 40, 'subsample': 0.8843891123118572}\n",
      "[18:20:09] WARNING: /workspace/src/gbm/gbtree.cc:139: Tree method is automatically selected to be 'approx' for faster speed. To use old behavior (exact greedy algorithm on single machine), set tree_method to 'exact'.\n",
      "0.804087                                                               \n",
      "{'colsample_bytree': 0.9264417143769569, 'eta': 0.09, 'gamma': 0.9, 'max_depth': 24, 'min_child_weight': 300, 'n_estimators': 1400, 'seed': 40, 'subsample': 0.6592692054909673}\n",
      "100%|██████████| 10/10 [36:57<00:00, 221.78s/trial, best loss: 0.800622]\n",
      "best: {'colsample_bytree': 0.6920675341467685, 'gamma': 0.8, 'max_depth': 26.0, 'min_child_weight': 700.0, 'n_estimators': 1000.0, 'subsample': 0.8005345732929527}\n"
     ]
    }
   ],
   "source": [
    "space_xgb = {\n",
    "    'n_estimators': scope.int(hp.quniform('n_estimators', 900, 2100, 100)),\n",
    "    'max_depth': scope.int(hp.quniform('max_depth', 4, 30, 2)),\n",
    "    'min_child_weight': scope.int(hp.quniform('min_child_weight', 10, 710, 50)),\n",
    "    'colsample_bytree': hp.uniform('colsample_bytree', 0.65, 1.0),\n",
    "    'subsample': hp.uniform('subsample', 0.65, 1.0),\n",
    "    'gamma': hp.quniform('gamma', 0.5, 1, 0.05),\n",
    "    'seed': 40,\n",
    "    'eta': 0.09,\n",
    "}\n",
    "\n",
    "best = fmin(fn=get_hyperopt_score_xgb, space=space_xgb, algo=tpe.suggest, max_evals=10)\n",
    "print('best: {}'.format(best))"
   ]
  },
  {
   "cell_type": "code",
   "execution_count": 42,
   "metadata": {},
   "outputs": [
    {
     "name": "stdout",
     "output_type": "stream",
     "text": [
      "{'n_estimators': 1000, 'max_depth': 26, 'min_child_weight': 700, 'colsample_bytree': 0.6920675341467685, 'subsample': 0.8005345732929527, 'gamma': 0.8, 'seed': 40, 'eta': 0.09}\n"
     ]
    }
   ],
   "source": [
    "params_best = space_xgb\n",
    "\n",
    "for param in list(best.keys()):\n",
    "    if param in ['n_estimators', 'max_depth', 'min_child_weight', 'seed']:\n",
    "        params_best[param] = int(best[param])\n",
    "    else:\n",
    "        params_best[param] = best[param]\n",
    "        \n",
    "print(params_best)"
   ]
  },
  {
   "cell_type": "code",
   "execution_count": 43,
   "metadata": {},
   "outputs": [
    {
     "name": "stdout",
     "output_type": "stream",
     "text": [
      "[18:27:41] WARNING: /workspace/src/gbm/gbtree.cc:139: Tree method is automatically selected to be 'approx' for faster speed. To use old behavior (exact greedy algorithm on single machine), set tree_method to 'exact'.\n",
      "[0]\tvalidation_0-rmse:1.19851\tvalidation_1-rmse:1.06123\n",
      "Multiple eval metrics have been passed: 'validation_1-rmse' will be used for early stopping.\n",
      "\n",
      "Will train until validation_1-rmse hasn't improved in 15 rounds.\n",
      "[1]\tvalidation_0-rmse:1.15322\tvalidation_1-rmse:1.01860\n",
      "[2]\tvalidation_0-rmse:1.11202\tvalidation_1-rmse:0.98279\n",
      "[3]\tvalidation_0-rmse:1.07758\tvalidation_1-rmse:0.95290\n",
      "[4]\tvalidation_0-rmse:1.04578\tvalidation_1-rmse:0.92528\n",
      "[5]\tvalidation_0-rmse:1.01917\tvalidation_1-rmse:0.90259\n",
      "[6]\tvalidation_0-rmse:0.99595\tvalidation_1-rmse:0.88416\n",
      "[7]\tvalidation_0-rmse:0.97567\tvalidation_1-rmse:0.86788\n",
      "[8]\tvalidation_0-rmse:0.95774\tvalidation_1-rmse:0.85461\n",
      "[9]\tvalidation_0-rmse:0.94244\tvalidation_1-rmse:0.84419\n",
      "[10]\tvalidation_0-rmse:0.92875\tvalidation_1-rmse:0.83473\n",
      "[11]\tvalidation_0-rmse:0.91839\tvalidation_1-rmse:0.82683\n",
      "[12]\tvalidation_0-rmse:0.90835\tvalidation_1-rmse:0.82066\n",
      "[13]\tvalidation_0-rmse:0.89984\tvalidation_1-rmse:0.81666\n",
      "[14]\tvalidation_0-rmse:0.89183\tvalidation_1-rmse:0.81298\n",
      "[15]\tvalidation_0-rmse:0.88494\tvalidation_1-rmse:0.81035\n",
      "[16]\tvalidation_0-rmse:0.87921\tvalidation_1-rmse:0.80789\n",
      "[17]\tvalidation_0-rmse:0.87346\tvalidation_1-rmse:0.80603\n",
      "[18]\tvalidation_0-rmse:0.86845\tvalidation_1-rmse:0.80443\n",
      "[19]\tvalidation_0-rmse:0.86388\tvalidation_1-rmse:0.80299\n",
      "[20]\tvalidation_0-rmse:0.85957\tvalidation_1-rmse:0.80220\n",
      "[21]\tvalidation_0-rmse:0.85601\tvalidation_1-rmse:0.80164\n",
      "[22]\tvalidation_0-rmse:0.85274\tvalidation_1-rmse:0.80118\n",
      "[23]\tvalidation_0-rmse:0.84975\tvalidation_1-rmse:0.80083\n",
      "[24]\tvalidation_0-rmse:0.84685\tvalidation_1-rmse:0.80073\n",
      "[25]\tvalidation_0-rmse:0.84376\tvalidation_1-rmse:0.80062\n",
      "[26]\tvalidation_0-rmse:0.84092\tvalidation_1-rmse:0.80068\n",
      "[27]\tvalidation_0-rmse:0.83840\tvalidation_1-rmse:0.80072\n",
      "[28]\tvalidation_0-rmse:0.83599\tvalidation_1-rmse:0.80086\n",
      "[29]\tvalidation_0-rmse:0.83419\tvalidation_1-rmse:0.80111\n",
      "[30]\tvalidation_0-rmse:0.83243\tvalidation_1-rmse:0.80112\n",
      "[31]\tvalidation_0-rmse:0.83071\tvalidation_1-rmse:0.80134\n",
      "[32]\tvalidation_0-rmse:0.82875\tvalidation_1-rmse:0.80171\n",
      "[33]\tvalidation_0-rmse:0.82733\tvalidation_1-rmse:0.80204\n",
      "[34]\tvalidation_0-rmse:0.82568\tvalidation_1-rmse:0.80226\n",
      "[35]\tvalidation_0-rmse:0.82354\tvalidation_1-rmse:0.80297\n",
      "[36]\tvalidation_0-rmse:0.82224\tvalidation_1-rmse:0.80326\n",
      "[37]\tvalidation_0-rmse:0.82036\tvalidation_1-rmse:0.80367\n",
      "[38]\tvalidation_0-rmse:0.81943\tvalidation_1-rmse:0.80381\n",
      "[39]\tvalidation_0-rmse:0.81779\tvalidation_1-rmse:0.80418\n",
      "[40]\tvalidation_0-rmse:0.81652\tvalidation_1-rmse:0.80452\n",
      "Stopping. Best iteration:\n",
      "[25]\tvalidation_0-rmse:0.84376\tvalidation_1-rmse:0.80062\n",
      "\n",
      "0.800622 {'n_estimators': 1000, 'max_depth': 26, 'min_child_weight': 700, 'colsample_bytree': 0.6920675341467685, 'subsample': 0.8005345732929527, 'gamma': 0.8, 'seed': 40, 'eta': 0.09}\n"
     ]
    }
   ],
   "source": [
    "date_block_num = np.unique(X_train_part_1.date_block_num)\n",
    "xtrain = X_train_part_1[X_train_part_1.date_block_num.isin(np.arange(12,25))]\n",
    "ytrain = Y_train_part_1[X_train_part_1.date_block_num.isin(np.arange(12,25))]\n",
    "xvalid = X_train_part_1[X_train_part_1.date_block_num.isin(np.arange(25,28))]\n",
    "yvalid = Y_train_part_1[X_train_part_1.date_block_num.isin(np.arange(25,28))]\n",
    "\n",
    "xtrain = xtrain.drop(\"date_block_num\", axis=1)\n",
    "xvalid = xvalid.drop(\"date_block_num\", axis=1)\n",
    "\n",
    "model = XGBRegressor(**params_best).fit(xtrain, \n",
    "                                   ytrain, \n",
    "                                   eval_metric=\"rmse\", \n",
    "                                   eval_set=[(xtrain, ytrain), (xvalid, yvalid)], \n",
    "                                   verbose=True, \n",
    "                                   early_stopping_rounds=15)\n",
    "\n",
    "score = model.best_score\n",
    "print(score, params_best)"
   ]
  },
  {
   "cell_type": "code",
   "execution_count": 44,
   "metadata": {},
   "outputs": [],
   "source": [
    "Y_test = model.predict(X_test.drop(\"date_block_num\", axis=1)).clip(0, 20)\n",
    "\n",
    "submission = pd.DataFrame({\n",
    "    \"ID\": test.index, \n",
    "    \"item_cnt_month\": Y_test\n",
    "})\n",
    "submission.to_csv('xgb_final.csv', index=False)"
   ]
  },
  {
   "cell_type": "code",
   "execution_count": 45,
   "metadata": {},
   "outputs": [],
   "source": [
    "y_pred_xgb = model.predict(X_train_part_2.drop(\"date_block_num\", axis=1))\n",
    "Y_test_pred_xgb = model.predict(X_test.drop(\"date_block_num\", axis=1))"
   ]
  },
  {
   "cell_type": "code",
   "execution_count": 46,
   "metadata": {},
   "outputs": [],
   "source": [
    "X_test_pred = pd.DataFrame(np.dstack((Y_test_pred_lgb, Y_test_pred_xgb))[0], columns=['pred_lgb', 'pred_xgb'])\n",
    "X_test_pred.to_csv('test_pred.csv')"
   ]
  },
  {
   "cell_type": "markdown",
   "metadata": {},
   "source": [
    "### Stacking"
   ]
  },
  {
   "cell_type": "code",
   "execution_count": 47,
   "metadata": {},
   "outputs": [],
   "source": [
    "date_block_num_part_2 = X_train_part_2.date_block_num\n",
    "X_stack, Y_stack = pd.DataFrame(np.dstack((y_pred_lgb, y_pred_xgb, X_train_part_2.date_block_num.values))[0], columns=['pred_lgb', 'pred_xgb', 'date_block_num']), Y_train_part_2.reset_index(drop=True)"
   ]
  },
  {
   "cell_type": "code",
   "execution_count": 48,
   "metadata": {},
   "outputs": [],
   "source": [
    "def get_hyperopt_score_lr(params):\n",
    "    \n",
    "    def train(\n",
    "            params,\n",
    "            X_train,\n",
    "            Y_train,\n",
    "            **kwargs):\n",
    "        model = Ridge(**params).fit(X_train, Y_train)\n",
    "        return model\n",
    "    \n",
    "    def rmse(y_actual, y_pred):\n",
    "        return np.sqrt(mean_squared_error(y_actual, y_pred))\n",
    "    \n",
    "    date_block_num = np.unique(X_stack.date_block_num)\n",
    "    xtrain = X_stack[X_stack.date_block_num.isin(np.arange(28,32))]\n",
    "    ytrain = Y_stack[X_stack.date_block_num.isin(np.arange(28,32))]\n",
    "    xvalid = X_stack[X_stack.date_block_num.isin(np.arange(32,34))]\n",
    "    yvalid = Y_stack[X_stack.date_block_num.isin(np.arange(32,34))]\n",
    "    \n",
    "    xtrain = xtrain.drop(\"date_block_num\", axis=1)\n",
    "    xvalid = xvalid.drop(\"date_block_num\", axis=1)\n",
    "    \n",
    "    model = train(\n",
    "        params=params,\n",
    "        X_train=xtrain,\n",
    "        Y_train=ytrain)\n",
    "    \n",
    "    score = rmse(yvalid, model.predict(xvalid))\n",
    "    print(score, params)\n",
    "    return score"
   ]
  },
  {
   "cell_type": "code",
   "execution_count": 49,
   "metadata": {},
   "outputs": [
    {
     "name": "stdout",
     "output_type": "stream",
     "text": [
      "0.895161701381101                                     \n",
      "{'alpha': 0.009580248265029446}                       \n",
      "0.8951616874507519                                                             \n",
      "{'alpha': 0.04550602315193732}                                                 \n",
      "0.8951616848151965                                                              \n",
      "{'alpha': 0.052303034160839965}                                                 \n",
      "0.895161693969975                                                               \n",
      "{'alpha': 0.02869319644012959}                                                  \n",
      "0.8951616819575928                                                              \n",
      "{'alpha': 0.059672711041753736}                                                 \n",
      "0.8951616904234312                                                              \n",
      "{'alpha': 0.037839590176480364}                                                 \n",
      "0.8951617005632159                                                              \n",
      "{'alpha': 0.011689532231984677}                                                 \n",
      "0.8951616880073445                                                              \n",
      "{'alpha': 0.044070590134770854}                                                 \n",
      "0.8951617018353012                                                              \n",
      "{'alpha': 0.008408889106980212}                                                 \n",
      "0.8951616684219826                                                              \n",
      "{'alpha': 0.09458078826989248}                                                  \n",
      "100%|██████████| 10/10 [00:01<00:00,  5.01trial/s, best loss: 0.8951616684219826]\n",
      "best: {'alpha': 0.09458078826989248}\n"
     ]
    }
   ],
   "source": [
    "space_lr = {\n",
    "    'alpha': hp.uniform('alpha', 0.001, 0.1),\n",
    "}\n",
    "\n",
    "best = fmin(fn=get_hyperopt_score_lr, space=space_lr, algo=tpe.suggest, max_evals=10)\n",
    "print('best: {}'.format(best))"
   ]
  },
  {
   "cell_type": "code",
   "execution_count": 50,
   "metadata": {},
   "outputs": [
    {
     "data": {
      "text/plain": [
       "{'alpha': 0.09458078826989248}"
      ]
     },
     "execution_count": 50,
     "metadata": {},
     "output_type": "execute_result"
    }
   ],
   "source": [
    "best"
   ]
  },
  {
   "cell_type": "code",
   "execution_count": 51,
   "metadata": {},
   "outputs": [],
   "source": [
    "model = Ridge(**best).fit(X_stack.drop(\"date_block_num\", axis=1), Y_stack)"
   ]
  },
  {
   "cell_type": "code",
   "execution_count": 52,
   "metadata": {},
   "outputs": [],
   "source": [
    "Y_test = model.predict(X_test_pred).clip(0, 20)\n",
    "\n",
    "submission = pd.DataFrame({\n",
    "    \"ID\": test.index, \n",
    "    \"item_cnt_month\": Y_test\n",
    "})\n",
    "submission.to_csv('submission_final.csv', index=False)"
   ]
  },
  {
   "cell_type": "code",
   "execution_count": null,
   "metadata": {},
   "outputs": [],
   "source": []
  }
 ],
 "metadata": {
  "kernelspec": {
   "display_name": "Python 3",
   "language": "python",
   "name": "python3"
  },
  "language_info": {
   "codemirror_mode": {
    "name": "ipython",
    "version": 3
   },
   "file_extension": ".py",
   "mimetype": "text/x-python",
   "name": "python",
   "nbconvert_exporter": "python",
   "pygments_lexer": "ipython3",
   "version": "3.6.6"
  }
 },
 "nbformat": 4,
 "nbformat_minor": 4
}
